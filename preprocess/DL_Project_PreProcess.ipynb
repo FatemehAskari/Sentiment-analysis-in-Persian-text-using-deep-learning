{
  "cells": [
    {
      "cell_type": "code",
      "execution_count": 30,
      "metadata": {
        "colab": {
          "base_uri": "https://localhost:8080/"
        },
        "id": "OeaS86_YajA_",
        "outputId": "c40d31c9-d897-4316-82ac-222b3ffe2a27"
      },
      "outputs": [],
      "source": [
        "# !git clone https://github.com/Arman-Rayan-Sharif/arman-text-emotion.git"
      ]
    },
    {
      "cell_type": "code",
      "execution_count": 31,
      "metadata": {
        "id": "3psMsK9eaesf"
      },
      "outputs": [
        {
          "name": "stderr",
          "output_type": "stream",
          "text": [
            "DEPRECATION: Loading egg at c:\\users\\user\\appdata\\local\\programs\\python\\python311\\lib\\site-packages\\protonets-0.0.1-py3.11.egg is deprecated. pip 24.3 will enforce this behaviour change. A possible replacement is to use pip for package installation.. Discussion can be found at https://github.com/pypa/pip/issues/12330\n",
            "\n",
            "[notice] A new release of pip is available: 23.3.1 -> 24.0\n",
            "[notice] To update, run: python.exe -m pip install --upgrade pip\n"
          ]
        }
      ],
      "source": [
        "!pip install --quiet parsivar"
      ]
    },
    {
      "cell_type": "code",
      "execution_count": 32,
      "metadata": {
        "id": "wfN48QA6aYso"
      },
      "outputs": [],
      "source": [
        "import csv\n",
        "import codecs\n",
        "import pandas as pd\n",
        "import seaborn as sns"
      ]
    },
    {
      "cell_type": "code",
      "execution_count": 64,
      "metadata": {
        "id": "A7rQQ0VMaYss"
      },
      "outputs": [],
      "source": [
        "# covert to csv\n",
        "def covert_to_csv(file_path,output_file_path):\n",
        "    with codecs.open(file_path, 'r', encoding='utf-8-sig') as tsv_file:\n",
        "        reader = csv.reader(tsv_file, delimiter='\\t')\n",
        "        rows = list(reader)\n",
        "\n",
        "    header = ['text', 'label']\n",
        "    rows.insert(0, header)\n",
        "\n",
        "    with open(output_file_path, 'w', encoding='utf-8-sig', newline='') as csv_file:\n",
        "        writer = csv.writer(csv_file)\n",
        "        writer.writerows(rows)"
      ]
    },
    {
      "cell_type": "code",
      "execution_count": 65,
      "metadata": {
        "id": "Iu7CCdbkaYst"
      },
      "outputs": [],
      "source": [
        "covert_to_csv(r'../dataset_arman-text-emotion/dataset/train.tsv',r'../dataset_arman-text-emotion/dataset/train.csv')\n",
        "\n",
        "covert_to_csv(r'../dataset_arman-text-emotion/dataset/test.tsv',r'../dataset_arman-text-emotion/dataset/test.csv')"
      ]
    },
    {
      "cell_type": "code",
      "execution_count": 35,
      "metadata": {
        "id": "RKezkGKzaYst"
      },
      "outputs": [],
      "source": [
        "df = pd.read_csv(r'../dataset_arman-text-emotion/dataset/train.csv')"
      ]
    },
    {
      "cell_type": "code",
      "execution_count": 36,
      "metadata": {
        "colab": {
          "base_uri": "https://localhost:8080/",
          "height": 206
        },
        "id": "dUAT-SV8aYsu",
        "outputId": "0713edc1-c09a-48c0-c140-636545c3d558"
      },
      "outputs": [
        {
          "data": {
            "text/html": [
              "<div>\n",
              "<style scoped>\n",
              "    .dataframe tbody tr th:only-of-type {\n",
              "        vertical-align: middle;\n",
              "    }\n",
              "\n",
              "    .dataframe tbody tr th {\n",
              "        vertical-align: top;\n",
              "    }\n",
              "\n",
              "    .dataframe thead th {\n",
              "        text-align: right;\n",
              "    }\n",
              "</style>\n",
              "<table border=\"1\" class=\"dataframe\">\n",
              "  <thead>\n",
              "    <tr style=\"text-align: right;\">\n",
              "      <th></th>\n",
              "      <th>text</th>\n",
              "      <th>label</th>\n",
              "    </tr>\n",
              "  </thead>\n",
              "  <tbody>\n",
              "    <tr>\n",
              "      <th>0</th>\n",
              "      <td>خیلی کوچیک هستن و سایزشون بدرد نمیخوره میخوام ...</td>\n",
              "      <td>SAD</td>\n",
              "    </tr>\n",
              "    <tr>\n",
              "      <th>1</th>\n",
              "      <td>از صدای پرنده دم دمای صبح متنفرم متنفرم متنفرم</td>\n",
              "      <td>HATE</td>\n",
              "    </tr>\n",
              "    <tr>\n",
              "      <th>2</th>\n",
              "      <td>\"کیفیتش خیلی خوبه با شک خریدم ولی واقعا راضیم...</td>\n",
              "      <td>SAD</td>\n",
              "    </tr>\n",
              "    <tr>\n",
              "      <th>3</th>\n",
              "      <td>چون همش با دوربین ثبت شده ، ایا میشه اعتراض زد...</td>\n",
              "      <td>OTHER</td>\n",
              "    </tr>\n",
              "    <tr>\n",
              "      <th>4</th>\n",
              "      <td>اين وضع ب طرز خنده داري گريه داره ...</td>\n",
              "      <td>SAD</td>\n",
              "    </tr>\n",
              "  </tbody>\n",
              "</table>\n",
              "</div>"
            ],
            "text/plain": [
              "                                                text  label\n",
              "0  خیلی کوچیک هستن و سایزشون بدرد نمیخوره میخوام ...    SAD\n",
              "1     از صدای پرنده دم دمای صبح متنفرم متنفرم متنفرم   HATE\n",
              "2   \"کیفیتش خیلی خوبه با شک خریدم ولی واقعا راضیم...    SAD\n",
              "3  چون همش با دوربین ثبت شده ، ایا میشه اعتراض زد...  OTHER\n",
              "4              اين وضع ب طرز خنده داري گريه داره ...    SAD"
            ]
          },
          "execution_count": 36,
          "metadata": {},
          "output_type": "execute_result"
        }
      ],
      "source": [
        "df.head()"
      ]
    },
    {
      "cell_type": "code",
      "execution_count": 37,
      "metadata": {
        "colab": {
          "base_uri": "https://localhost:8080/"
        },
        "id": "vQ1mf5yvaYsv",
        "outputId": "698a16ad-a808-444f-a834-884c46c039da"
      },
      "outputs": [
        {
          "data": {
            "text/plain": [
              "label\n",
              "OTHER       1681\n",
              "ANGRY        923\n",
              "SAD          896\n",
              "FEAR         757\n",
              "SURPRISE     739\n",
              "HAPPY        618\n",
              "HATE         511\n",
              "Name: count, dtype: int64"
            ]
          },
          "execution_count": 37,
          "metadata": {},
          "output_type": "execute_result"
        }
      ],
      "source": [
        "df['label'].value_counts()"
      ]
    },
    {
      "cell_type": "code",
      "execution_count": 38,
      "metadata": {
        "colab": {
          "base_uri": "https://localhost:8080/",
          "height": 467
        },
        "id": "UrdSOpbhaYsw",
        "outputId": "1d91368e-2638-408f-d82f-7314456c9a7b"
      },
      "outputs": [
        {
          "data": {
            "text/plain": [
              "<Axes: xlabel='label', ylabel='count'>"
            ]
          },
          "execution_count": 38,
          "metadata": {},
          "output_type": "execute_result"
        },
        {
          "data": {
            "image/png": "[encoded data removed]",
            "text/plain": [
              "<Figure size 640x480 with 1 Axes>"
            ]
          },
          "metadata": {},
          "output_type": "display_data"
        }
      ],
      "source": [
        "sns.countplot(x='label',data=df)"
      ]
    },
    {
      "cell_type": "markdown",
      "metadata": {
        "id": "JGjyLCUaaYsx"
      },
      "source": [
        "<h2>Preprocess Text</h2>"
      ]
    },
    {
      "cell_type": "code",
      "execution_count": 39,
      "metadata": {
        "id": "HFKMD1ShaYsy"
      },
      "outputs": [],
      "source": [
        "from parsivar import Normalizer\n",
        "import re\n",
        "import copy\n",
        "import csv\n",
        "from openpyxl import Workbook"
      ]
    },
    {
      "cell_type": "code",
      "execution_count": 40,
      "metadata": {
        "id": "jN5pGOBtaYsz"
      },
      "outputs": [],
      "source": [
        "# 1.remove English letter\n",
        "def removeEnglishLetter(text):\n",
        "    RemoveEnglish_text = re.sub(r'[A-Za-z]', '', text)\n",
        "    return RemoveEnglish_text"
      ]
    },
    {
      "cell_type": "code",
      "execution_count": 41,
      "metadata": {
        "id": "ICTQh-BAaYs0"
      },
      "outputs": [],
      "source": [
        "# 2.remove repeated more than twice in the non-standard spelling\n",
        "def removeDuplicateCharacters(text_org):\n",
        "    text:str=copy.deepcopy(text_org)\n",
        "    last=text[0]\n",
        "    counter=1\n",
        "    i=1\n",
        "    while i<len(text):\n",
        "        current=text[i]\n",
        "        if current==last:\n",
        "            counter+=1\n",
        "        else:\n",
        "            last=current\n",
        "            if counter>=3:\n",
        "                text=text[:i-counter]+text[i-1:]\n",
        "                i-=counter-1\n",
        "            counter=1\n",
        "        i+=1\n",
        "    if counter>=3:\n",
        "        text=text[:i-counter]+text[i-1:]\n",
        "        i-=counter-1\n",
        "        counter=1\n",
        "    return text"
      ]
    },
    {
      "cell_type": "code",
      "execution_count": 42,
      "metadata": {
        "id": "BU_AkJ-daYs0"
      },
      "outputs": [],
      "source": [
        "# 3.Remove Arabic diacritics\n",
        "def RemoveArabic(text):\n",
        "    removearabic = re.sub(r'[\\u064B-\\u065F]', '', text)\n",
        "    return removearabic"
      ]
    },
    {
      "cell_type": "code",
      "execution_count": 43,
      "metadata": {
        "id": "wPexYDdTaYs0"
      },
      "outputs": [],
      "source": [
        "# 4.Remove remaining non-Persian characters\n",
        "# def Removenonpersian(text):\n",
        "#     nonpersian_text = re.sub(r'[^\\u0600-\\u06FF\\uFB8A\\u067E\\u0686\\u06AF\\u200C]', '',text)\n",
        "#     return nonpersian_text"
      ]
    },
    {
      "cell_type": "code",
      "execution_count": 44,
      "metadata": {
        "id": "YAvtcTAeaYs0"
      },
      "outputs": [],
      "source": [
        "# 5.Remove hashtag sign while keeping the information included in hashtags\n",
        "def unTag(text):\n",
        "    removehashtag_text = re.sub(r'#', '', text)\n",
        "    removehashtag_text = re.sub(r'_', ' ', removehashtag_text)\n",
        "    return removehashtag_text"
      ]
    },
    {
      "cell_type": "code",
      "execution_count": 45,
      "metadata": {
        "id": "SSxzvlbBaYs1"
      },
      "outputs": [],
      "source": [
        "# 6.Remove Persian numeric characters\n",
        "def RemovePersiannumber(text):\n",
        "    RemovePersian_text = re.sub(r'[۰-۹]', '', text)\n",
        "    return RemovePersian_text"
      ]
    },
    {
      "cell_type": "code",
      "execution_count": 46,
      "metadata": {
        "id": "d04sdAmXaYs1"
      },
      "outputs": [],
      "source": [
        "# 7.Parsivar Normalizer\n",
        "def normalize_text(text):\n",
        "    normalizer = Normalizer()\n",
        "    normalized_text = normalizer.normalize(text)\n",
        "    return normalized_text"
      ]
    },
    {
      "cell_type": "code",
      "execution_count": 47,
      "metadata": {
        "id": "AzU6OX3IaYs1"
      },
      "outputs": [],
      "source": [
        "df = pd.read_csv(r'../dataset_arman-text-emotion/dataset/train.csv')\n",
        "df['text_clean'] = df['text'].apply(removeEnglishLetter)\\\n",
        "                            .apply(removeDuplicateCharacters)\\\n",
        "                            .apply(RemoveArabic)\\\n",
        "                            .apply(unTag)\\\n",
        "                            .apply(RemovePersiannumber)\\\n",
        "                            .apply(normalize_text)\n",
        "\n",
        "df['text'] = df['text_clean']\n",
        "df.drop('text_clean', axis=1, inplace=True)"
      ]
    },
    {
      "cell_type": "code",
      "execution_count": 48,
      "metadata": {
        "colab": {
          "base_uri": "https://localhost:8080/",
          "height": 206
        },
        "id": "nLzioduhaYs1",
        "outputId": "a2a34f36-516d-4425-8e75-f9d3c9a91745"
      },
      "outputs": [
        {
          "data": {
            "text/html": [
              "<div>\n",
              "<style scoped>\n",
              "    .dataframe tbody tr th:only-of-type {\n",
              "        vertical-align: middle;\n",
              "    }\n",
              "\n",
              "    .dataframe tbody tr th {\n",
              "        vertical-align: top;\n",
              "    }\n",
              "\n",
              "    .dataframe thead th {\n",
              "        text-align: right;\n",
              "    }\n",
              "</style>\n",
              "<table border=\"1\" class=\"dataframe\">\n",
              "  <thead>\n",
              "    <tr style=\"text-align: right;\">\n",
              "      <th></th>\n",
              "      <th>text</th>\n",
              "      <th>label</th>\n",
              "    </tr>\n",
              "  </thead>\n",
              "  <tbody>\n",
              "    <tr>\n",
              "      <th>0</th>\n",
              "      <td>خیلی کوچیک هستن و سایزشون بدرد نمیخوره میخوام ...</td>\n",
              "      <td>SAD</td>\n",
              "    </tr>\n",
              "    <tr>\n",
              "      <th>1</th>\n",
              "      <td>از صدای پرنده دم دمای صبح متنفرم متنفرم متنفرم</td>\n",
              "      <td>HATE</td>\n",
              "    </tr>\n",
              "    <tr>\n",
              "      <th>2</th>\n",
              "      <td>\" کیفیتش خیلی خوبه با شک خریدم ولی واقعا راضیم...</td>\n",
              "      <td>SAD</td>\n",
              "    </tr>\n",
              "    <tr>\n",
              "      <th>3</th>\n",
              "      <td>چون همش با دوربین ثبت‌شده‌، ایا میشه اعتراض زد...</td>\n",
              "      <td>OTHER</td>\n",
              "    </tr>\n",
              "    <tr>\n",
              "      <th>4</th>\n",
              "      <td>این وضع ب طرز خنده‌داری گریه داره .</td>\n",
              "      <td>SAD</td>\n",
              "    </tr>\n",
              "  </tbody>\n",
              "</table>\n",
              "</div>"
            ],
            "text/plain": [
              "                                                text  label\n",
              "0  خیلی کوچیک هستن و سایزشون بدرد نمیخوره میخوام ...    SAD\n",
              "1     از صدای پرنده دم دمای صبح متنفرم متنفرم متنفرم   HATE\n",
              "2  \" کیفیتش خیلی خوبه با شک خریدم ولی واقعا راضیم...    SAD\n",
              "3  چون همش با دوربین ثبت‌شده‌، ایا میشه اعتراض زد...  OTHER\n",
              "4                این وضع ب طرز خنده‌داری گریه داره .    SAD"
            ]
          },
          "execution_count": 48,
          "metadata": {},
          "output_type": "execute_result"
        }
      ],
      "source": [
        "df.head()"
      ]
    },
    {
      "cell_type": "code",
      "execution_count": 49,
      "metadata": {
        "id": "tganRWjsaYs2"
      },
      "outputs": [],
      "source": [
        "def preprocess_csv(input_file, output_file):\n",
        "    df = pd.read_csv(input_file)\n",
        "    df['text_clean'] = df['text'].apply(removeEnglishLetter)\\\n",
        "                                .apply(removeDuplicateCharacters)\\\n",
        "                                .apply(RemoveArabic)\\\n",
        "                                .apply(unTag)\\\n",
        "                                .apply(RemovePersiannumber)\\\n",
        "                                .apply(normalize_text)\n",
        "    df['text'] = df['text_clean']\n",
        "    df.drop('text_clean', axis=1, inplace=True)\n",
        "    df.to_csv(output_file, index=False, encoding='utf-8-sig')"
      ]
    },
    {
      "cell_type": "code",
      "execution_count": 55,
      "metadata": {
        "id": "3NijPIkMaYs2"
      },
      "outputs": [],
      "source": [
        "preprocess_csv(r'../dataset_arman-text-emotion/dataset/train.csv', r'../dataset_arman-text-emotion/dataset/train_clean.csv')"
      ]
    },
    {
      "cell_type": "code",
      "execution_count": 53,
      "metadata": {
        "id": "MVIwWrEeaYs2"
      },
      "outputs": [],
      "source": [
        "preprocess_csv(r'../dataset_arman-text-emotion/dataset/test.csv', r'../dataset_arman-text-emotion/dataset/test_clean.csv')"
      ]
    }
  ],
  "metadata": {
    "colab": {
      "provenance": []
    },
    "kernelspec": {
      "display_name": "Python 3",
      "language": "python",
      "name": "python3"
    },
    "language_info": {
      "codemirror_mode": {
        "name": "ipython",
        "version": 3
      },
      "file_extension": ".py",
      "mimetype": "text/x-python",
      "name": "python",
      "nbconvert_exporter": "python",
      "pygments_lexer": "ipython3",
      "version": "3.11.2"
    }
  },
  "nbformat": 4,
  "nbformat_minor": 0
}
